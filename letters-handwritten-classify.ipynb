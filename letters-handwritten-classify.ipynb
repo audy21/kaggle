{
 "cells": [
  {
   "cell_type": "code",
   "execution_count": 1,
   "id": "2022ff60",
   "metadata": {
    "_cell_guid": "b1076dfc-b9ad-4769-8c92-a6c4dae69d19",
    "_uuid": "8f2839f25d086af736a60e9eeb907d3b93b6e0e5",
    "execution": {
     "iopub.execute_input": "2025-01-23T08:52:52.455217Z",
     "iopub.status.busy": "2025-01-23T08:52:52.454734Z",
     "iopub.status.idle": "2025-01-23T08:53:09.364560Z",
     "shell.execute_reply": "2025-01-23T08:53:09.363344Z"
    },
    "papermill": {
     "duration": 16.921313,
     "end_time": "2025-01-23T08:53:09.366491",
     "exception": false,
     "start_time": "2025-01-23T08:52:52.445178",
     "status": "completed"
    },
    "tags": []
   },
   "outputs": [],
   "source": [
    "import numpy as np\n",
    "import pandas as pd\n",
    "import os\n",
    "import matplotlib.pyplot as plt\n",
    "import tensorflow as tf\n",
    "import random\n",
    "\n",
    "from tensorflow.keras.utils import to_categorical\n",
    "from tensorflow.keras.preprocessing.image import load_img, img_to_array\n",
    "from tensorflow.keras.preprocessing.image import ImageDataGenerator\n",
    "\n",
    "from sklearn.metrics import classification_report, log_loss, accuracy_score\n",
    "from sklearn.model_selection import train_test_split\n",
    "\n",
    "from tqdm import tqdm"
   ]
  },
  {
   "cell_type": "code",
   "execution_count": 2,
   "id": "aef544a0",
   "metadata": {
    "execution": {
     "iopub.execute_input": "2025-01-23T08:53:09.381352Z",
     "iopub.status.busy": "2025-01-23T08:53:09.380667Z",
     "iopub.status.idle": "2025-01-23T08:53:09.385564Z",
     "shell.execute_reply": "2025-01-23T08:53:09.384521Z"
    },
    "papermill": {
     "duration": 0.014008,
     "end_time": "2025-01-23T08:53:09.387356",
     "exception": false,
     "start_time": "2025-01-23T08:53:09.373348",
     "status": "completed"
    },
    "tags": []
   },
   "outputs": [],
   "source": [
    "data_dir='../input/classification-of-handwritten-letters/letters3'"
   ]
  },
  {
   "cell_type": "code",
   "execution_count": 3,
   "id": "5a0e80ca",
   "metadata": {
    "execution": {
     "iopub.execute_input": "2025-01-23T08:53:09.402245Z",
     "iopub.status.busy": "2025-01-23T08:53:09.401890Z",
     "iopub.status.idle": "2025-01-23T08:53:09.449042Z",
     "shell.execute_reply": "2025-01-23T08:53:09.447930Z"
    },
    "papermill": {
     "duration": 0.056229,
     "end_time": "2025-01-23T08:53:09.451051",
     "exception": false,
     "start_time": "2025-01-23T08:53:09.394822",
     "status": "completed"
    },
    "tags": []
   },
   "outputs": [
    {
     "data": {
      "text/html": [
       "<div>\n",
       "<style scoped>\n",
       "    .dataframe tbody tr th:only-of-type {\n",
       "        vertical-align: middle;\n",
       "    }\n",
       "\n",
       "    .dataframe tbody tr th {\n",
       "        vertical-align: top;\n",
       "    }\n",
       "\n",
       "    .dataframe thead th {\n",
       "        text-align: right;\n",
       "    }\n",
       "</style>\n",
       "<table border=\"1\" class=\"dataframe\">\n",
       "  <thead>\n",
       "    <tr style=\"text-align: right;\">\n",
       "      <th></th>\n",
       "      <th>letter</th>\n",
       "      <th>label</th>\n",
       "      <th>file</th>\n",
       "      <th>background</th>\n",
       "    </tr>\n",
       "  </thead>\n",
       "  <tbody>\n",
       "    <tr>\n",
       "      <th>0</th>\n",
       "      <td>а</td>\n",
       "      <td>1</td>\n",
       "      <td>01_231.png</td>\n",
       "      <td>3</td>\n",
       "    </tr>\n",
       "    <tr>\n",
       "      <th>1</th>\n",
       "      <td>а</td>\n",
       "      <td>1</td>\n",
       "      <td>01_232.png</td>\n",
       "      <td>3</td>\n",
       "    </tr>\n",
       "    <tr>\n",
       "      <th>2</th>\n",
       "      <td>а</td>\n",
       "      <td>1</td>\n",
       "      <td>01_233.png</td>\n",
       "      <td>3</td>\n",
       "    </tr>\n",
       "    <tr>\n",
       "      <th>3</th>\n",
       "      <td>а</td>\n",
       "      <td>1</td>\n",
       "      <td>01_234.png</td>\n",
       "      <td>3</td>\n",
       "    </tr>\n",
       "    <tr>\n",
       "      <th>4</th>\n",
       "      <td>а</td>\n",
       "      <td>1</td>\n",
       "      <td>01_235.png</td>\n",
       "      <td>3</td>\n",
       "    </tr>\n",
       "    <tr>\n",
       "      <th>...</th>\n",
       "      <td>...</td>\n",
       "      <td>...</td>\n",
       "      <td>...</td>\n",
       "      <td>...</td>\n",
       "    </tr>\n",
       "    <tr>\n",
       "      <th>6595</th>\n",
       "      <td>я</td>\n",
       "      <td>33</td>\n",
       "      <td>33_426.png</td>\n",
       "      <td>3</td>\n",
       "    </tr>\n",
       "    <tr>\n",
       "      <th>6596</th>\n",
       "      <td>я</td>\n",
       "      <td>33</td>\n",
       "      <td>33_427.png</td>\n",
       "      <td>3</td>\n",
       "    </tr>\n",
       "    <tr>\n",
       "      <th>6597</th>\n",
       "      <td>я</td>\n",
       "      <td>33</td>\n",
       "      <td>33_428.png</td>\n",
       "      <td>3</td>\n",
       "    </tr>\n",
       "    <tr>\n",
       "      <th>6598</th>\n",
       "      <td>я</td>\n",
       "      <td>33</td>\n",
       "      <td>33_429.png</td>\n",
       "      <td>3</td>\n",
       "    </tr>\n",
       "    <tr>\n",
       "      <th>6599</th>\n",
       "      <td>я</td>\n",
       "      <td>33</td>\n",
       "      <td>33_430.png</td>\n",
       "      <td>3</td>\n",
       "    </tr>\n",
       "  </tbody>\n",
       "</table>\n",
       "<p>6600 rows × 4 columns</p>\n",
       "</div>"
      ],
      "text/plain": [
       "     letter  label        file  background\n",
       "0         а      1  01_231.png           3\n",
       "1         а      1  01_232.png           3\n",
       "2         а      1  01_233.png           3\n",
       "3         а      1  01_234.png           3\n",
       "4         а      1  01_235.png           3\n",
       "...     ...    ...         ...         ...\n",
       "6595      я     33  33_426.png           3\n",
       "6596      я     33  33_427.png           3\n",
       "6597      я     33  33_428.png           3\n",
       "6598      я     33  33_429.png           3\n",
       "6599      я     33  33_430.png           3\n",
       "\n",
       "[6600 rows x 4 columns]"
      ]
     },
     "execution_count": 3,
     "metadata": {},
     "output_type": "execute_result"
    }
   ],
   "source": [
    "letters=pd.read_csv('../input/classification-of-handwritten-letters/letters3.csv')\n",
    "letters"
   ]
  },
  {
   "cell_type": "code",
   "execution_count": 4,
   "id": "a7954cc3",
   "metadata": {
    "execution": {
     "iopub.execute_input": "2025-01-23T08:53:09.467958Z",
     "iopub.status.busy": "2025-01-23T08:53:09.467432Z",
     "iopub.status.idle": "2025-01-23T08:53:09.474249Z",
     "shell.execute_reply": "2025-01-23T08:53:09.473177Z"
    },
    "papermill": {
     "duration": 0.016788,
     "end_time": "2025-01-23T08:53:09.476215",
     "exception": false,
     "start_time": "2025-01-23T08:53:09.459427",
     "status": "completed"
    },
    "tags": []
   },
   "outputs": [
    {
     "name": "stdout",
     "output_type": "stream",
     "text": [
      "['letter', 'label', 'file', 'background']\n"
     ]
    }
   ],
   "source": [
    "print(letters.columns.to_list())"
   ]
  },
  {
   "cell_type": "code",
   "execution_count": 5,
   "id": "94f7268a",
   "metadata": {
    "execution": {
     "iopub.execute_input": "2025-01-23T08:53:09.494375Z",
     "iopub.status.busy": "2025-01-23T08:53:09.493841Z",
     "iopub.status.idle": "2025-01-23T08:53:09.503937Z",
     "shell.execute_reply": "2025-01-23T08:53:09.502651Z"
    },
    "papermill": {
     "duration": 0.022641,
     "end_time": "2025-01-23T08:53:09.505924",
     "exception": false,
     "start_time": "2025-01-23T08:53:09.483283",
     "status": "completed"
    },
    "tags": []
   },
   "outputs": [
    {
     "name": "stdout",
     "output_type": "stream",
     "text": [
      "['а' 'б' 'в' 'г' 'д' 'е' 'ё' 'ж' 'з' 'и' 'й' 'к' 'л' 'м' 'н' 'о' 'п' 'р'\n",
      " 'с' 'т' 'у' 'ф' 'х' 'ц' 'ч' 'ш' 'щ' 'ъ' 'ы' 'ь' 'э' 'ю' 'я']\n"
     ]
    }
   ],
   "source": [
    "label0=letters['letter']\n",
    "Name=letters['letter'].unique()\n",
    "print(Name)"
   ]
  },
  {
   "cell_type": "code",
   "execution_count": 6,
   "id": "2fb0d3f3",
   "metadata": {
    "execution": {
     "iopub.execute_input": "2025-01-23T08:53:09.525584Z",
     "iopub.status.busy": "2025-01-23T08:53:09.525197Z",
     "iopub.status.idle": "2025-01-23T08:53:09.531219Z",
     "shell.execute_reply": "2025-01-23T08:53:09.529608Z"
    },
    "papermill": {
     "duration": 0.017249,
     "end_time": "2025-01-23T08:53:09.534531",
     "exception": false,
     "start_time": "2025-01-23T08:53:09.517282",
     "status": "completed"
    },
    "tags": []
   },
   "outputs": [],
   "source": [
    "N0=[]\n",
    "for i in range(33):\n",
    "    N0+=[i]   \n",
    "normal_mapping=dict(zip(Name,N0)) \n",
    "reverse_mapping=dict(zip(N0,Name)) "
   ]
  },
  {
   "cell_type": "code",
   "execution_count": 7,
   "id": "9ee01991",
   "metadata": {
    "execution": {
     "iopub.execute_input": "2025-01-23T08:53:09.554196Z",
     "iopub.status.busy": "2025-01-23T08:53:09.553834Z",
     "iopub.status.idle": "2025-01-23T08:53:09.558758Z",
     "shell.execute_reply": "2025-01-23T08:53:09.557423Z"
    },
    "papermill": {
     "duration": 0.014926,
     "end_time": "2025-01-23T08:53:09.560485",
     "exception": false,
     "start_time": "2025-01-23T08:53:09.545559",
     "status": "completed"
    },
    "tags": []
   },
   "outputs": [
    {
     "name": "stdout",
     "output_type": "stream",
     "text": [
      "{'а': 0, 'б': 1, 'в': 2, 'г': 3, 'д': 4, 'е': 5, 'ё': 6, 'ж': 7, 'з': 8, 'и': 9, 'й': 10, 'к': 11, 'л': 12, 'м': 13, 'н': 14, 'о': 15, 'п': 16, 'р': 17, 'с': 18, 'т': 19, 'у': 20, 'ф': 21, 'х': 22, 'ц': 23, 'ч': 24, 'ш': 25, 'щ': 26, 'ъ': 27, 'ы': 28, 'ь': 29, 'э': 30, 'ю': 31, 'я': 32}\n"
     ]
    }
   ],
   "source": [
    "print(normal_mapping)"
   ]
  },
  {
   "cell_type": "code",
   "execution_count": 8,
   "id": "2da3d2d8",
   "metadata": {
    "execution": {
     "iopub.execute_input": "2025-01-23T08:53:09.575232Z",
     "iopub.status.busy": "2025-01-23T08:53:09.574857Z",
     "iopub.status.idle": "2025-01-23T08:53:09.581734Z",
     "shell.execute_reply": "2025-01-23T08:53:09.580654Z"
    },
    "papermill": {
     "duration": 0.01624,
     "end_time": "2025-01-23T08:53:09.583630",
     "exception": false,
     "start_time": "2025-01-23T08:53:09.567390",
     "status": "completed"
    },
    "tags": []
   },
   "outputs": [],
   "source": [
    "label1=label0.map(normal_mapping)"
   ]
  },
  {
   "cell_type": "code",
   "execution_count": 9,
   "id": "81c492b4",
   "metadata": {
    "execution": {
     "iopub.execute_input": "2025-01-23T08:53:09.598411Z",
     "iopub.status.busy": "2025-01-23T08:53:09.598056Z",
     "iopub.status.idle": "2025-01-23T08:53:31.943871Z",
     "shell.execute_reply": "2025-01-23T08:53:31.942480Z"
    },
    "papermill": {
     "duration": 22.355176,
     "end_time": "2025-01-23T08:53:31.945624",
     "exception": false,
     "start_time": "2025-01-23T08:53:09.590448",
     "status": "completed"
    },
    "tags": []
   },
   "outputs": [
    {
     "name": "stderr",
     "output_type": "stream",
     "text": [
      "100%|██████████| 6600/6600 [00:22<00:00, 295.99it/s]\n"
     ]
    }
   ],
   "source": [
    "datax0 = []\n",
    "for im in tqdm(os.listdir(data_dir)):\n",
    "    image = load_img(os.path.join(data_dir, im), color_mode='rgb', target_size=(48, 48))\n",
    "    image = img_to_array(image)\n",
    "    image = image / 255.0\n",
    "    datax0.append(image)"
   ]
  },
  {
   "cell_type": "code",
   "execution_count": 10,
   "id": "4c964c88",
   "metadata": {
    "execution": {
     "iopub.execute_input": "2025-01-23T08:53:31.984670Z",
     "iopub.status.busy": "2025-01-23T08:53:31.984274Z",
     "iopub.status.idle": "2025-01-23T08:53:32.066322Z",
     "shell.execute_reply": "2025-01-23T08:53:32.065182Z"
    },
    "papermill": {
     "duration": 0.103731,
     "end_time": "2025-01-23T08:53:32.068484",
     "exception": false,
     "start_time": "2025-01-23T08:53:31.964753",
     "status": "completed"
    },
    "tags": []
   },
   "outputs": [],
   "source": [
    "datax1=np.array(datax0)\n",
    "datay1=np.array(label1)"
   ]
  },
  {
   "cell_type": "code",
   "execution_count": 11,
   "id": "ba0291af",
   "metadata": {
    "execution": {
     "iopub.execute_input": "2025-01-23T08:53:32.106537Z",
     "iopub.status.busy": "2025-01-23T08:53:32.106162Z",
     "iopub.status.idle": "2025-01-23T08:53:32.115477Z",
     "shell.execute_reply": "2025-01-23T08:53:32.114379Z"
    },
    "papermill": {
     "duration": 0.030216,
     "end_time": "2025-01-23T08:53:32.117176",
     "exception": false,
     "start_time": "2025-01-23T08:53:32.086960",
     "status": "completed"
    },
    "tags": []
   },
   "outputs": [],
   "source": [
    "n=len(datax0)\n",
    "M=[]\n",
    "for i in range(n):\n",
    "    M+=[i]\n",
    "random.shuffle(M)"
   ]
  },
  {
   "cell_type": "code",
   "execution_count": 12,
   "id": "966d3c65",
   "metadata": {
    "execution": {
     "iopub.execute_input": "2025-01-23T08:53:32.154516Z",
     "iopub.status.busy": "2025-01-23T08:53:32.154169Z",
     "iopub.status.idle": "2025-01-23T08:53:32.235545Z",
     "shell.execute_reply": "2025-01-23T08:53:32.234564Z"
    },
    "papermill": {
     "duration": 0.102252,
     "end_time": "2025-01-23T08:53:32.237374",
     "exception": false,
     "start_time": "2025-01-23T08:53:32.135122",
     "status": "completed"
    },
    "tags": []
   },
   "outputs": [],
   "source": [
    "trainx0=datax1[M[0:(n//4)*3]]\n",
    "testx0=datax1[M[(n//4)*3:]]\n",
    "trainy0=datay1[M[0:(n//4)*3]]\n",
    "testy0=datay1[M[(n//4)*3:]]"
   ]
  },
  {
   "cell_type": "code",
   "execution_count": 13,
   "id": "b72f946d",
   "metadata": {
    "execution": {
     "iopub.execute_input": "2025-01-23T08:53:32.274583Z",
     "iopub.status.busy": "2025-01-23T08:53:32.274201Z",
     "iopub.status.idle": "2025-01-23T08:53:32.344646Z",
     "shell.execute_reply": "2025-01-23T08:53:32.343671Z"
    },
    "papermill": {
     "duration": 0.091266,
     "end_time": "2025-01-23T08:53:32.346402",
     "exception": false,
     "start_time": "2025-01-23T08:53:32.255136",
     "status": "completed"
    },
    "tags": []
   },
   "outputs": [],
   "source": [
    "trainy2=to_categorical(trainy0)\n",
    "X_train=np.array(trainx0).reshape(-1,48,48,3)\n",
    "y_train=np.array(trainy2)"
   ]
  },
  {
   "cell_type": "code",
   "execution_count": 14,
   "id": "c602208a",
   "metadata": {
    "execution": {
     "iopub.execute_input": "2025-01-23T08:53:32.383216Z",
     "iopub.status.busy": "2025-01-23T08:53:32.382873Z",
     "iopub.status.idle": "2025-01-23T08:53:32.408970Z",
     "shell.execute_reply": "2025-01-23T08:53:32.407973Z"
    },
    "papermill": {
     "duration": 0.046517,
     "end_time": "2025-01-23T08:53:32.410713",
     "exception": false,
     "start_time": "2025-01-23T08:53:32.364196",
     "status": "completed"
    },
    "tags": []
   },
   "outputs": [],
   "source": [
    "X_test=np.array(testx0).reshape(-1,48,48,3)"
   ]
  },
  {
   "cell_type": "code",
   "execution_count": 15,
   "id": "4a06529d",
   "metadata": {
    "execution": {
     "iopub.execute_input": "2025-01-23T08:53:32.447542Z",
     "iopub.status.busy": "2025-01-23T08:53:32.447076Z",
     "iopub.status.idle": "2025-01-23T08:53:32.514838Z",
     "shell.execute_reply": "2025-01-23T08:53:32.513736Z"
    },
    "papermill": {
     "duration": 0.088233,
     "end_time": "2025-01-23T08:53:32.516645",
     "exception": false,
     "start_time": "2025-01-23T08:53:32.428412",
     "status": "completed"
    },
    "tags": []
   },
   "outputs": [],
   "source": [
    "trainx,testx,trainy,testy=train_test_split(X_train,y_train,test_size=0.2,random_state=44)"
   ]
  },
  {
   "cell_type": "code",
   "execution_count": 16,
   "id": "424766c5",
   "metadata": {
    "execution": {
     "iopub.execute_input": "2025-01-23T08:53:32.553420Z",
     "iopub.status.busy": "2025-01-23T08:53:32.553025Z",
     "iopub.status.idle": "2025-01-23T08:53:32.559086Z",
     "shell.execute_reply": "2025-01-23T08:53:32.557789Z"
    },
    "papermill": {
     "duration": 0.02635,
     "end_time": "2025-01-23T08:53:32.560877",
     "exception": false,
     "start_time": "2025-01-23T08:53:32.534527",
     "status": "completed"
    },
    "tags": []
   },
   "outputs": [
    {
     "name": "stdout",
     "output_type": "stream",
     "text": [
      "(3960, 48, 48, 3)\n",
      "(990, 48, 48, 3)\n",
      "(3960, 33)\n",
      "(990, 33)\n"
     ]
    }
   ],
   "source": [
    "print(trainx.shape)\n",
    "print(testx.shape)\n",
    "print(trainy.shape)\n",
    "print(testy.shape)"
   ]
  },
  {
   "cell_type": "code",
   "execution_count": 17,
   "id": "15374985",
   "metadata": {
    "execution": {
     "iopub.execute_input": "2025-01-23T08:53:32.598775Z",
     "iopub.status.busy": "2025-01-23T08:53:32.598345Z",
     "iopub.status.idle": "2025-01-23T08:53:32.602909Z",
     "shell.execute_reply": "2025-01-23T08:53:32.601832Z"
    },
    "papermill": {
     "duration": 0.025565,
     "end_time": "2025-01-23T08:53:32.604603",
     "exception": false,
     "start_time": "2025-01-23T08:53:32.579038",
     "status": "completed"
    },
    "tags": []
   },
   "outputs": [],
   "source": [
    "datagen = ImageDataGenerator(horizontal_flip=True,vertical_flip=True,rotation_range=20,zoom_range=0.2,\n",
    "                        width_shift_range=0.2,height_shift_range=0.2,shear_range=0.1,fill_mode=\"nearest\")"
   ]
  },
  {
   "cell_type": "code",
   "execution_count": 18,
   "id": "3a7fffd7",
   "metadata": {
    "execution": {
     "iopub.execute_input": "2025-01-23T08:53:32.642778Z",
     "iopub.status.busy": "2025-01-23T08:53:32.642349Z",
     "iopub.status.idle": "2025-01-23T08:53:41.021796Z",
     "shell.execute_reply": "2025-01-23T08:53:41.020589Z"
    },
    "papermill": {
     "duration": 8.400815,
     "end_time": "2025-01-23T08:53:41.023713",
     "exception": false,
     "start_time": "2025-01-23T08:53:32.622898",
     "status": "completed"
    },
    "tags": []
   },
   "outputs": [
    {
     "name": "stdout",
     "output_type": "stream",
     "text": [
      "Downloading data from https://storage.googleapis.com/tensorflow/keras-applications/densenet/densenet201_weights_tf_dim_ordering_tf_kernels_notop.h5\n",
      "\u001b[1m74836368/74836368\u001b[0m \u001b[32m━━━━━━━━━━━━━━━━━━━━\u001b[0m\u001b[37m\u001b[0m \u001b[1m3s\u001b[0m 0us/step\n"
     ]
    }
   ],
   "source": [
    "pretrained_model3 = tf.keras.applications.DenseNet201(input_shape=(48,48,3),include_top=False,weights='imagenet',pooling='avg')\n",
    "pretrained_model3.trainable = False"
   ]
  },
  {
   "cell_type": "code",
   "execution_count": 19,
   "id": "3c58faba",
   "metadata": {
    "execution": {
     "iopub.execute_input": "2025-01-23T08:53:41.067634Z",
     "iopub.status.busy": "2025-01-23T08:53:41.067218Z",
     "iopub.status.idle": "2025-01-23T08:53:41.134709Z",
     "shell.execute_reply": "2025-01-23T08:53:41.133700Z"
    },
    "papermill": {
     "duration": 0.091762,
     "end_time": "2025-01-23T08:53:41.136639",
     "exception": false,
     "start_time": "2025-01-23T08:53:41.044877",
     "status": "completed"
    },
    "tags": []
   },
   "outputs": [],
   "source": [
    "inputs3 = pretrained_model3.input\n",
    "x3 = tf.keras.layers.Dense(128, activation='relu')(pretrained_model3.output)\n",
    "outputs3 = tf.keras.layers.Dense(33, activation='softmax')(x3)\n",
    "model = tf.keras.Model(inputs=inputs3, outputs=outputs3)"
   ]
  },
  {
   "cell_type": "code",
   "execution_count": 20,
   "id": "15933f14",
   "metadata": {
    "execution": {
     "iopub.execute_input": "2025-01-23T08:53:41.179886Z",
     "iopub.status.busy": "2025-01-23T08:53:41.179465Z",
     "iopub.status.idle": "2025-01-23T08:53:41.196410Z",
     "shell.execute_reply": "2025-01-23T08:53:41.195127Z"
    },
    "papermill": {
     "duration": 0.040823,
     "end_time": "2025-01-23T08:53:41.198500",
     "exception": false,
     "start_time": "2025-01-23T08:53:41.157677",
     "status": "completed"
    },
    "tags": []
   },
   "outputs": [],
   "source": [
    "model.compile(optimizer='adam',loss='categorical_crossentropy',metrics=['accuracy'])"
   ]
  },
  {
   "cell_type": "code",
   "execution_count": 21,
   "id": "65ccf265",
   "metadata": {
    "execution": {
     "iopub.execute_input": "2025-01-23T08:53:41.241989Z",
     "iopub.status.busy": "2025-01-23T08:53:41.241434Z",
     "iopub.status.idle": "2025-01-23T09:15:16.449813Z",
     "shell.execute_reply": "2025-01-23T09:15:16.448549Z"
    },
    "papermill": {
     "duration": 1295.532779,
     "end_time": "2025-01-23T09:15:16.752289",
     "exception": false,
     "start_time": "2025-01-23T08:53:41.219510",
     "status": "completed"
    },
    "tags": []
   },
   "outputs": [
    {
     "name": "stdout",
     "output_type": "stream",
     "text": [
      "Epoch 1/40\n"
     ]
    },
    {
     "name": "stderr",
     "output_type": "stream",
     "text": [
      "/usr/local/lib/python3.10/dist-packages/keras/src/trainers/data_adapters/py_dataset_adapter.py:122: UserWarning: Your `PyDataset` class should call `super().__init__(**kwargs)` in its constructor. `**kwargs` can include `workers`, `use_multiprocessing`, `max_queue_size`. Do not pass these arguments to `fit()`, as they will be ignored.\n",
      "  self._warn_if_super_not_called()\n"
     ]
    },
    {
     "name": "stdout",
     "output_type": "stream",
     "text": [
      "\u001b[1m124/124\u001b[0m \u001b[32m━━━━━━━━━━━━━━━━━━━━\u001b[0m\u001b[37m\u001b[0m \u001b[1m61s\u001b[0m 304ms/step - accuracy: 0.0396 - loss: 3.5435 - val_accuracy: 0.0313 - val_loss: 3.5094\n",
      "Epoch 2/40\n",
      "\u001b[1m124/124\u001b[0m \u001b[32m━━━━━━━━━━━━━━━━━━━━\u001b[0m\u001b[37m\u001b[0m \u001b[1m31s\u001b[0m 244ms/step - accuracy: 0.0298 - loss: 3.4972 - val_accuracy: 0.0293 - val_loss: 3.5112\n",
      "Epoch 3/40\n",
      "\u001b[1m124/124\u001b[0m \u001b[32m━━━━━━━━━━━━━━━━━━━━\u001b[0m\u001b[37m\u001b[0m \u001b[1m31s\u001b[0m 244ms/step - accuracy: 0.0365 - loss: 3.4959 - val_accuracy: 0.0273 - val_loss: 3.5077\n",
      "Epoch 4/40\n",
      "\u001b[1m124/124\u001b[0m \u001b[32m━━━━━━━━━━━━━━━━━━━━\u001b[0m\u001b[37m\u001b[0m \u001b[1m35s\u001b[0m 279ms/step - accuracy: 0.0363 - loss: 3.4894 - val_accuracy: 0.0374 - val_loss: 3.5129\n",
      "Epoch 5/40\n",
      "\u001b[1m124/124\u001b[0m \u001b[32m━━━━━━━━━━━━━━━━━━━━\u001b[0m\u001b[37m\u001b[0m \u001b[1m31s\u001b[0m 248ms/step - accuracy: 0.0420 - loss: 3.4876 - val_accuracy: 0.0273 - val_loss: 3.5141\n",
      "Epoch 6/40\n",
      "\u001b[1m124/124\u001b[0m \u001b[32m━━━━━━━━━━━━━━━━━━━━\u001b[0m\u001b[37m\u001b[0m \u001b[1m31s\u001b[0m 251ms/step - accuracy: 0.0427 - loss: 3.4850 - val_accuracy: 0.0323 - val_loss: 3.5205\n",
      "Epoch 7/40\n",
      "\u001b[1m124/124\u001b[0m \u001b[32m━━━━━━━━━━━━━━━━━━━━\u001b[0m\u001b[37m\u001b[0m \u001b[1m31s\u001b[0m 247ms/step - accuracy: 0.0385 - loss: 3.4803 - val_accuracy: 0.0313 - val_loss: 3.5112\n",
      "Epoch 8/40\n",
      "\u001b[1m124/124\u001b[0m \u001b[32m━━━━━━━━━━━━━━━━━━━━\u001b[0m\u001b[37m\u001b[0m \u001b[1m31s\u001b[0m 247ms/step - accuracy: 0.0418 - loss: 3.4810 - val_accuracy: 0.0212 - val_loss: 3.5107\n",
      "Epoch 9/40\n",
      "\u001b[1m124/124\u001b[0m \u001b[32m━━━━━━━━━━━━━━━━━━━━\u001b[0m\u001b[37m\u001b[0m \u001b[1m31s\u001b[0m 245ms/step - accuracy: 0.0427 - loss: 3.4791 - val_accuracy: 0.0323 - val_loss: 3.5170\n",
      "Epoch 10/40\n",
      "\u001b[1m124/124\u001b[0m \u001b[32m━━━━━━━━━━━━━━━━━━━━\u001b[0m\u001b[37m\u001b[0m \u001b[1m30s\u001b[0m 240ms/step - accuracy: 0.0439 - loss: 3.4702 - val_accuracy: 0.0283 - val_loss: 3.5240\n",
      "Epoch 11/40\n",
      "\u001b[1m124/124\u001b[0m \u001b[32m━━━━━━━━━━━━━━━━━━━━\u001b[0m\u001b[37m\u001b[0m \u001b[1m31s\u001b[0m 247ms/step - accuracy: 0.0456 - loss: 3.4662 - val_accuracy: 0.0242 - val_loss: 3.5127\n",
      "Epoch 12/40\n",
      "\u001b[1m124/124\u001b[0m \u001b[32m━━━━━━━━━━━━━━━━━━━━\u001b[0m\u001b[37m\u001b[0m \u001b[1m31s\u001b[0m 250ms/step - accuracy: 0.0503 - loss: 3.4631 - val_accuracy: 0.0253 - val_loss: 3.5211\n",
      "Epoch 13/40\n",
      "\u001b[1m124/124\u001b[0m \u001b[32m━━━━━━━━━━━━━━━━━━━━\u001b[0m\u001b[37m\u001b[0m \u001b[1m31s\u001b[0m 246ms/step - accuracy: 0.0525 - loss: 3.4613 - val_accuracy: 0.0212 - val_loss: 3.5228\n",
      "Epoch 14/40\n",
      "\u001b[1m124/124\u001b[0m \u001b[32m━━━━━━━━━━━━━━━━━━━━\u001b[0m\u001b[37m\u001b[0m \u001b[1m31s\u001b[0m 246ms/step - accuracy: 0.0538 - loss: 3.4641 - val_accuracy: 0.0212 - val_loss: 3.5200\n",
      "Epoch 15/40\n",
      "\u001b[1m124/124\u001b[0m \u001b[32m━━━━━━━━━━━━━━━━━━━━\u001b[0m\u001b[37m\u001b[0m \u001b[1m31s\u001b[0m 246ms/step - accuracy: 0.0530 - loss: 3.4536 - val_accuracy: 0.0253 - val_loss: 3.5323\n",
      "Epoch 16/40\n",
      "\u001b[1m124/124\u001b[0m \u001b[32m━━━━━━━━━━━━━━━━━━━━\u001b[0m\u001b[37m\u001b[0m \u001b[1m31s\u001b[0m 247ms/step - accuracy: 0.0475 - loss: 3.4532 - val_accuracy: 0.0212 - val_loss: 3.5319\n",
      "Epoch 17/40\n",
      "\u001b[1m124/124\u001b[0m \u001b[32m━━━━━━━━━━━━━━━━━━━━\u001b[0m\u001b[37m\u001b[0m \u001b[1m31s\u001b[0m 246ms/step - accuracy: 0.0448 - loss: 3.4543 - val_accuracy: 0.0283 - val_loss: 3.5420\n",
      "Epoch 18/40\n",
      "\u001b[1m124/124\u001b[0m \u001b[32m━━━━━━━━━━━━━━━━━━━━\u001b[0m\u001b[37m\u001b[0m \u001b[1m31s\u001b[0m 245ms/step - accuracy: 0.0453 - loss: 3.4394 - val_accuracy: 0.0354 - val_loss: 3.5341\n",
      "Epoch 19/40\n",
      "\u001b[1m124/124\u001b[0m \u001b[32m━━━━━━━━━━━━━━━━━━━━\u001b[0m\u001b[37m\u001b[0m \u001b[1m31s\u001b[0m 245ms/step - accuracy: 0.0509 - loss: 3.4467 - val_accuracy: 0.0343 - val_loss: 3.5371\n",
      "Epoch 20/40\n",
      "\u001b[1m124/124\u001b[0m \u001b[32m━━━━━━━━━━━━━━━━━━━━\u001b[0m\u001b[37m\u001b[0m \u001b[1m31s\u001b[0m 245ms/step - accuracy: 0.0522 - loss: 3.4420 - val_accuracy: 0.0283 - val_loss: 3.5377\n",
      "Epoch 21/40\n",
      "\u001b[1m124/124\u001b[0m \u001b[32m━━━━━━━━━━━━━━━━━━━━\u001b[0m\u001b[37m\u001b[0m \u001b[1m31s\u001b[0m 246ms/step - accuracy: 0.0591 - loss: 3.4382 - val_accuracy: 0.0313 - val_loss: 3.5400\n",
      "Epoch 22/40\n",
      "\u001b[1m124/124\u001b[0m \u001b[32m━━━━━━━━━━━━━━━━━━━━\u001b[0m\u001b[37m\u001b[0m \u001b[1m36s\u001b[0m 289ms/step - accuracy: 0.0596 - loss: 3.4295 - val_accuracy: 0.0283 - val_loss: 3.5415\n",
      "Epoch 23/40\n",
      "\u001b[1m124/124\u001b[0m \u001b[32m━━━━━━━━━━━━━━━━━━━━\u001b[0m\u001b[37m\u001b[0m \u001b[1m31s\u001b[0m 249ms/step - accuracy: 0.0537 - loss: 3.4280 - val_accuracy: 0.0242 - val_loss: 3.5410\n",
      "Epoch 24/40\n",
      "\u001b[1m124/124\u001b[0m \u001b[32m━━━━━━━━━━━━━━━━━━━━\u001b[0m\u001b[37m\u001b[0m \u001b[1m31s\u001b[0m 249ms/step - accuracy: 0.0533 - loss: 3.4283 - val_accuracy: 0.0263 - val_loss: 3.5538\n",
      "Epoch 25/40\n",
      "\u001b[1m124/124\u001b[0m \u001b[32m━━━━━━━━━━━━━━━━━━━━\u001b[0m\u001b[37m\u001b[0m \u001b[1m32s\u001b[0m 252ms/step - accuracy: 0.0610 - loss: 3.4132 - val_accuracy: 0.0343 - val_loss: 3.5438\n",
      "Epoch 26/40\n",
      "\u001b[1m124/124\u001b[0m \u001b[32m━━━━━━━━━━━━━━━━━━━━\u001b[0m\u001b[37m\u001b[0m \u001b[1m31s\u001b[0m 249ms/step - accuracy: 0.0580 - loss: 3.4262 - val_accuracy: 0.0263 - val_loss: 3.5675\n",
      "Epoch 27/40\n",
      "\u001b[1m124/124\u001b[0m \u001b[32m━━━━━━━━━━━━━━━━━━━━\u001b[0m\u001b[37m\u001b[0m \u001b[1m35s\u001b[0m 283ms/step - accuracy: 0.0555 - loss: 3.4174 - val_accuracy: 0.0253 - val_loss: 3.5641\n",
      "Epoch 28/40\n",
      "\u001b[1m124/124\u001b[0m \u001b[32m━━━━━━━━━━━━━━━━━━━━\u001b[0m\u001b[37m\u001b[0m \u001b[1m31s\u001b[0m 245ms/step - accuracy: 0.0636 - loss: 3.4102 - val_accuracy: 0.0323 - val_loss: 3.5602\n",
      "Epoch 29/40\n",
      "\u001b[1m124/124\u001b[0m \u001b[32m━━━━━━━━━━━━━━━━━━━━\u001b[0m\u001b[37m\u001b[0m \u001b[1m31s\u001b[0m 246ms/step - accuracy: 0.0637 - loss: 3.4071 - val_accuracy: 0.0323 - val_loss: 3.5732\n",
      "Epoch 30/40\n",
      "\u001b[1m124/124\u001b[0m \u001b[32m━━━━━━━━━━━━━━━━━━━━\u001b[0m\u001b[37m\u001b[0m \u001b[1m31s\u001b[0m 245ms/step - accuracy: 0.0657 - loss: 3.3978 - val_accuracy: 0.0263 - val_loss: 3.5754\n",
      "Epoch 31/40\n",
      "\u001b[1m124/124\u001b[0m \u001b[32m━━━━━━━━━━━━━━━━━━━━\u001b[0m\u001b[37m\u001b[0m \u001b[1m31s\u001b[0m 246ms/step - accuracy: 0.0608 - loss: 3.4001 - val_accuracy: 0.0293 - val_loss: 3.5907\n",
      "Epoch 32/40\n",
      "\u001b[1m124/124\u001b[0m \u001b[32m━━━━━━━━━━━━━━━━━━━━\u001b[0m\u001b[37m\u001b[0m \u001b[1m31s\u001b[0m 250ms/step - accuracy: 0.0693 - loss: 3.4069 - val_accuracy: 0.0253 - val_loss: 3.5963\n",
      "Epoch 33/40\n",
      "\u001b[1m124/124\u001b[0m \u001b[32m━━━━━━━━━━━━━━━━━━━━\u001b[0m\u001b[37m\u001b[0m \u001b[1m31s\u001b[0m 247ms/step - accuracy: 0.0685 - loss: 3.3980 - val_accuracy: 0.0333 - val_loss: 3.5806\n",
      "Epoch 34/40\n",
      "\u001b[1m124/124\u001b[0m \u001b[32m━━━━━━━━━━━━━━━━━━━━\u001b[0m\u001b[37m\u001b[0m \u001b[1m30s\u001b[0m 243ms/step - accuracy: 0.0754 - loss: 3.3924 - val_accuracy: 0.0253 - val_loss: 3.5866\n",
      "Epoch 35/40\n",
      "\u001b[1m124/124\u001b[0m \u001b[32m━━━━━━━━━━━━━━━━━━━━\u001b[0m\u001b[37m\u001b[0m \u001b[1m31s\u001b[0m 246ms/step - accuracy: 0.0598 - loss: 3.4019 - val_accuracy: 0.0343 - val_loss: 3.5905\n",
      "Epoch 36/40\n",
      "\u001b[1m124/124\u001b[0m \u001b[32m━━━━━━━━━━━━━━━━━━━━\u001b[0m\u001b[37m\u001b[0m \u001b[1m31s\u001b[0m 247ms/step - accuracy: 0.0561 - loss: 3.3932 - val_accuracy: 0.0354 - val_loss: 3.5842\n",
      "Epoch 37/40\n",
      "\u001b[1m124/124\u001b[0m \u001b[32m━━━━━━━━━━━━━━━━━━━━\u001b[0m\u001b[37m\u001b[0m \u001b[1m36s\u001b[0m 285ms/step - accuracy: 0.0800 - loss: 3.3782 - val_accuracy: 0.0303 - val_loss: 3.5949\n",
      "Epoch 38/40\n",
      "\u001b[1m124/124\u001b[0m \u001b[32m━━━━━━━━━━━━━━━━━━━━\u001b[0m\u001b[37m\u001b[0m \u001b[1m40s\u001b[0m 281ms/step - accuracy: 0.0855 - loss: 3.3723 - val_accuracy: 0.0253 - val_loss: 3.5922\n",
      "Epoch 39/40\n",
      "\u001b[1m124/124\u001b[0m \u001b[32m━━━━━━━━━━━━━━━━━━━━\u001b[0m\u001b[37m\u001b[0m \u001b[1m31s\u001b[0m 248ms/step - accuracy: 0.0677 - loss: 3.3732 - val_accuracy: 0.0313 - val_loss: 3.5934\n",
      "Epoch 40/40\n",
      "\u001b[1m124/124\u001b[0m \u001b[32m━━━━━━━━━━━━━━━━━━━━\u001b[0m\u001b[37m\u001b[0m \u001b[1m35s\u001b[0m 279ms/step - accuracy: 0.0668 - loss: 3.3912 - val_accuracy: 0.0374 - val_loss: 3.6051\n"
     ]
    }
   ],
   "source": [
    "his=model.fit(datagen.flow(trainx,trainy,batch_size=32),validation_data=(testx,testy),epochs=40)"
   ]
  },
  {
   "cell_type": "code",
   "execution_count": 22,
   "id": "c1d536a4",
   "metadata": {
    "execution": {
     "iopub.execute_input": "2025-01-23T09:15:17.431218Z",
     "iopub.status.busy": "2025-01-23T09:15:17.430848Z",
     "iopub.status.idle": "2025-01-23T09:15:36.545590Z",
     "shell.execute_reply": "2025-01-23T09:15:36.544332Z"
    },
    "papermill": {
     "duration": 19.421114,
     "end_time": "2025-01-23T09:15:36.547348",
     "exception": false,
     "start_time": "2025-01-23T09:15:17.126234",
     "status": "completed"
    },
    "tags": []
   },
   "outputs": [
    {
     "name": "stdout",
     "output_type": "stream",
     "text": [
      "\u001b[1m31/31\u001b[0m \u001b[32m━━━━━━━━━━━━━━━━━━━━\u001b[0m\u001b[37m\u001b[0m \u001b[1m19s\u001b[0m 410ms/step\n",
      "              precision    recall  f1-score   support\n",
      "\n",
      "           0       0.00      0.00      0.00        32\n",
      "           1       0.04      0.03      0.03        40\n",
      "           2       0.00      0.00      0.00        30\n",
      "           3       0.00      0.00      0.00        33\n",
      "           4       0.07      0.13      0.09        23\n",
      "           5       0.00      0.00      0.00        31\n",
      "           6       0.00      0.00      0.00        25\n",
      "           7       0.00      0.00      0.00        38\n",
      "           8       0.07      0.06      0.07        31\n",
      "           9       0.08      0.04      0.05        28\n",
      "          10       0.03      0.04      0.04        23\n",
      "          11       0.11      0.03      0.05        33\n",
      "          12       0.00      0.00      0.00        29\n",
      "          13       0.04      0.09      0.06        34\n",
      "          14       0.01      0.03      0.01        34\n",
      "          15       0.07      0.15      0.09        27\n",
      "          16       0.07      0.13      0.09        31\n",
      "          17       0.10      0.09      0.09        34\n",
      "          18       0.00      0.00      0.00        25\n",
      "          19       0.00      0.00      0.00        29\n",
      "          20       0.00      0.00      0.00        31\n",
      "          21       0.00      0.00      0.00        28\n",
      "          22       0.03      0.07      0.04        28\n",
      "          23       0.06      0.07      0.06        30\n",
      "          24       0.03      0.07      0.05        28\n",
      "          25       0.05      0.03      0.04        36\n",
      "          26       0.05      0.07      0.06        29\n",
      "          27       0.06      0.06      0.06        31\n",
      "          28       0.04      0.03      0.03        34\n",
      "          29       0.00      0.00      0.00        28\n",
      "          30       0.01      0.04      0.02        26\n",
      "          31       0.00      0.00      0.00        31\n",
      "          32       0.00      0.00      0.00        20\n",
      "\n",
      "    accuracy                           0.04       990\n",
      "   macro avg       0.03      0.04      0.03       990\n",
      "weighted avg       0.03      0.04      0.03       990\n",
      "\n"
     ]
    }
   ],
   "source": [
    "y_pred=model.predict(testx)\n",
    "pred=np.argmax(y_pred,axis=1)\n",
    "ground = np.argmax(testy,axis=1)\n",
    "print(classification_report(ground,pred))"
   ]
  },
  {
   "cell_type": "code",
   "execution_count": 23,
   "id": "7c47c9ca",
   "metadata": {
    "execution": {
     "iopub.execute_input": "2025-01-23T09:15:37.159403Z",
     "iopub.status.busy": "2025-01-23T09:15:37.158917Z",
     "iopub.status.idle": "2025-01-23T09:15:37.427875Z",
     "shell.execute_reply": "2025-01-23T09:15:37.426485Z"
    },
    "papermill": {
     "duration": 0.577869,
     "end_time": "2025-01-23T09:15:37.429654",
     "exception": false,
     "start_time": "2025-01-23T09:15:36.851785",
     "status": "completed"
    },
    "tags": []
   },
   "outputs": [
    {
     "data": {
      "image/png": "[encoded data removed]",
      "text/plain": [
       "<Figure size 640x480 with 1 Axes>"
      ]
     },
     "metadata": {},
     "output_type": "display_data"
    },
    {
     "data": {
      "text/plain": [
       "<Figure size 640x480 with 0 Axes>"
      ]
     },
     "metadata": {},
     "output_type": "display_data"
    }
   ],
   "source": [
    "get_acc = his.history['accuracy']\n",
    "value_acc = his.history['val_accuracy']\n",
    "get_loss = his.history['loss']\n",
    "validation_loss = his.history['val_loss']\n",
    "\n",
    "epochs = range(len(get_acc))\n",
    "plt.plot(epochs, get_acc, 'r', label='Accuracy of Training data')\n",
    "plt.plot(epochs, value_acc, 'b', label='Accuracy of Validation data')\n",
    "plt.title('Training vs validation accuracy')\n",
    "plt.legend(loc=0)\n",
    "plt.figure()\n",
    "plt.show()"
   ]
  },
  {
   "cell_type": "code",
   "execution_count": 24,
   "id": "58325707",
   "metadata": {
    "execution": {
     "iopub.execute_input": "2025-01-23T09:15:38.111158Z",
     "iopub.status.busy": "2025-01-23T09:15:38.110591Z",
     "iopub.status.idle": "2025-01-23T09:15:38.335319Z",
     "shell.execute_reply": "2025-01-23T09:15:38.334211Z"
    },
    "papermill": {
     "duration": 0.596487,
     "end_time": "2025-01-23T09:15:38.336972",
     "exception": false,
     "start_time": "2025-01-23T09:15:37.740485",
     "status": "completed"
    },
    "tags": []
   },
   "outputs": [
    {
     "data": {
      "image/png": "[encoded data removed]",
      "text/plain": [
       "<Figure size 640x480 with 1 Axes>"
      ]
     },
     "metadata": {},
     "output_type": "display_data"
    },
    {
     "data": {
      "text/plain": [
       "<Figure size 640x480 with 0 Axes>"
      ]
     },
     "metadata": {},
     "output_type": "display_data"
    }
   ],
   "source": [
    "epochs = range(len(get_loss))\n",
    "plt.plot(epochs, get_loss, 'r', label='Loss of Training data')\n",
    "plt.plot(epochs, validation_loss, 'b', label='Loss of Validation data')\n",
    "plt.title('Training vs validation loss')\n",
    "plt.legend(loc=0)\n",
    "plt.figure()\n",
    "plt.show()"
   ]
  },
  {
   "cell_type": "code",
   "execution_count": 25,
   "id": "ab8da861",
   "metadata": {
    "execution": {
     "iopub.execute_input": "2025-01-23T09:15:38.947490Z",
     "iopub.status.busy": "2025-01-23T09:15:38.946968Z",
     "iopub.status.idle": "2025-01-23T09:15:38.968723Z",
     "shell.execute_reply": "2025-01-23T09:15:38.967413Z"
    },
    "papermill": {
     "duration": 0.327497,
     "end_time": "2025-01-23T09:15:38.970528",
     "exception": false,
     "start_time": "2025-01-23T09:15:38.643031",
     "status": "completed"
    },
    "tags": []
   },
   "outputs": [
    {
     "data": {
      "image/jpeg": "[encoded data removed]",
      "image/png": "[encoded data removed]",
      "text/plain": [
       "<PIL.Image.Image image mode=RGB size=200x200>"
      ]
     },
     "execution_count": 25,
     "metadata": {},
     "output_type": "execute_result"
    }
   ],
   "source": [
    "path0='../input/classification-of-handwritten-letters/letters3/01_320.png'\n",
    "load_img(path0,target_size=(200,200))"
   ]
  },
  {
   "cell_type": "code",
   "execution_count": 26,
   "id": "3798d07d",
   "metadata": {
    "execution": {
     "iopub.execute_input": "2025-01-23T09:15:39.690895Z",
     "iopub.status.busy": "2025-01-23T09:15:39.690500Z",
     "iopub.status.idle": "2025-01-23T09:15:39.697011Z",
     "shell.execute_reply": "2025-01-23T09:15:39.695936Z"
    },
    "papermill": {
     "duration": 0.398256,
     "end_time": "2025-01-23T09:15:39.698896",
     "exception": false,
     "start_time": "2025-01-23T09:15:39.300640",
     "status": "completed"
    },
    "tags": []
   },
   "outputs": [],
   "source": [
    "image=load_img(path0,target_size=(48,48))\n",
    "image=img_to_array(image) \n",
    "image=image/255.0\n",
    "prediction_image=np.array(image)\n",
    "prediction_image= np.expand_dims(image, axis=0)"
   ]
  },
  {
   "cell_type": "code",
   "execution_count": 27,
   "id": "3133cc5e",
   "metadata": {
    "execution": {
     "iopub.execute_input": "2025-01-23T09:15:40.385341Z",
     "iopub.status.busy": "2025-01-23T09:15:40.384879Z",
     "iopub.status.idle": "2025-01-23T09:15:40.506367Z",
     "shell.execute_reply": "2025-01-23T09:15:40.505126Z"
    },
    "papermill": {
     "duration": 0.437282,
     "end_time": "2025-01-23T09:15:40.508377",
     "exception": false,
     "start_time": "2025-01-23T09:15:40.071095",
     "status": "completed"
    },
    "tags": []
   },
   "outputs": [
    {
     "name": "stdout",
     "output_type": "stream",
     "text": [
      "\u001b[1m1/1\u001b[0m \u001b[32m━━━━━━━━━━━━━━━━━━━━\u001b[0m\u001b[37m\u001b[0m \u001b[1m0s\u001b[0m 59ms/step\n",
      "Prediction is н.\n"
     ]
    }
   ],
   "source": [
    "prediction=model.predict(prediction_image)\n",
    "value=np.argmax(prediction)\n",
    "move_name=reverse_mapping[value]\n",
    "print(\"Prediction is {}.\".format(move_name))"
   ]
  },
  {
   "cell_type": "code",
   "execution_count": 28,
   "id": "c9569ee9",
   "metadata": {
    "execution": {
     "iopub.execute_input": "2025-01-23T09:15:41.129654Z",
     "iopub.status.busy": "2025-01-23T09:15:41.129280Z",
     "iopub.status.idle": "2025-01-23T09:15:50.832608Z",
     "shell.execute_reply": "2025-01-23T09:15:50.830975Z"
    },
    "papermill": {
     "duration": 10.010385,
     "end_time": "2025-01-23T09:15:50.834383",
     "exception": false,
     "start_time": "2025-01-23T09:15:40.823998",
     "status": "completed"
    },
    "tags": []
   },
   "outputs": [
    {
     "name": "stdout",
     "output_type": "stream",
     "text": [
      "\u001b[1m52/52\u001b[0m \u001b[32m━━━━━━━━━━━━━━━━━━━━\u001b[0m\u001b[37m\u001b[0m \u001b[1m10s\u001b[0m 183ms/step\n",
      "[[0.02388157 0.02114795 0.02004665 0.0354265  0.05234772 0.00991166\n",
      "  0.02649906 0.02184661 0.03557687 0.02318691 0.04736306 0.03062942\n",
      "  0.03548472 0.01490915 0.03886603 0.02607013 0.0189895  0.03391822\n",
      "  0.03792159 0.04028048 0.02013811 0.01504917 0.06315418 0.03397175\n",
      "  0.02152681 0.02587941 0.02473437 0.03105752 0.01387045 0.04001747\n",
      "  0.0317081  0.03480848 0.0497804 ]\n",
      " [0.02333849 0.02314675 0.00744873 0.01340656 0.00427966 0.02265274\n",
      "  0.04187839 0.03577584 0.01093545 0.01027768 0.01563654 0.05120767\n",
      "  0.03739582 0.05138038 0.04331419 0.08940954 0.03062071 0.01129542\n",
      "  0.02007028 0.0166482  0.01246168 0.0243764  0.02298797 0.05587636\n",
      "  0.03590843 0.06705125 0.03368526 0.02535126 0.04071065 0.03112105\n",
      "  0.02074455 0.04131823 0.02828786]\n",
      " [0.03187323 0.02705321 0.02384717 0.03360375 0.04347422 0.02804727\n",
      "  0.02966414 0.0275004  0.02362644 0.02983513 0.04276977 0.02961934\n",
      "  0.02463043 0.02631019 0.02397726 0.02361129 0.03538866 0.04146088\n",
      "  0.02232268 0.05150468 0.03148838 0.02731912 0.03758349 0.02483522\n",
      "  0.02348243 0.02790087 0.03865993 0.02856581 0.02105848 0.02794554\n",
      "  0.03483002 0.02135551 0.03485501]\n",
      " [0.03094976 0.03960129 0.02654118 0.03358881 0.02524041 0.03234813\n",
      "  0.02240256 0.03730569 0.03026202 0.04546971 0.05004991 0.03255918\n",
      "  0.01671829 0.02432818 0.03554449 0.04099251 0.02357688 0.02212404\n",
      "  0.03797    0.02035545 0.02431677 0.01882562 0.04268125 0.02198092\n",
      "  0.03488723 0.03368252 0.0346001  0.02917997 0.02626513 0.03266321\n",
      "  0.02284345 0.03170547 0.01843974]\n",
      " [0.0197718  0.03138833 0.0218476  0.02092315 0.02769643 0.03172244\n",
      "  0.02899526 0.02445713 0.04389305 0.02759141 0.03242182 0.02840887\n",
      "  0.02553779 0.0228362  0.04820003 0.02803357 0.04119204 0.02103312\n",
      "  0.03739464 0.02051158 0.02663202 0.02869394 0.03020126 0.0407652\n",
      "  0.01482346 0.02573129 0.02381228 0.03901436 0.03859835 0.04020657\n",
      "  0.0446185  0.02973937 0.03330705]]\n",
      "[22, 15, 19, 10, 14]\n"
     ]
    }
   ],
   "source": [
    "pred2=model.predict(X_test)\n",
    "print(pred2[0:5])\n",
    "\n",
    "PRED=[]\n",
    "for item in pred2:\n",
    "    value2=np.argmax(item)      \n",
    "    PRED+=[value2]\n",
    "print(PRED[0:5])"
   ]
  },
  {
   "cell_type": "code",
   "execution_count": 29,
   "id": "cbe812da",
   "metadata": {
    "execution": {
     "iopub.execute_input": "2025-01-23T09:15:51.519037Z",
     "iopub.status.busy": "2025-01-23T09:15:51.518639Z",
     "iopub.status.idle": "2025-01-23T09:15:51.525055Z",
     "shell.execute_reply": "2025-01-23T09:15:51.524024Z"
    },
    "papermill": {
     "duration": 0.383307,
     "end_time": "2025-01-23T09:15:51.526831",
     "exception": false,
     "start_time": "2025-01-23T09:15:51.143524",
     "status": "completed"
    },
    "tags": []
   },
   "outputs": [
    {
     "data": {
      "text/plain": [
       "[24, 24, 4, 12, 32]"
      ]
     },
     "execution_count": 29,
     "metadata": {},
     "output_type": "execute_result"
    }
   ],
   "source": [
    "ANS=list(testy0)\n",
    "ANS[0:5]"
   ]
  },
  {
   "cell_type": "code",
   "execution_count": 30,
   "id": "da851d3a",
   "metadata": {
    "execution": {
     "iopub.execute_input": "2025-01-23T09:15:52.149460Z",
     "iopub.status.busy": "2025-01-23T09:15:52.149083Z",
     "iopub.status.idle": "2025-01-23T09:15:52.157391Z",
     "shell.execute_reply": "2025-01-23T09:15:52.155930Z"
    },
    "papermill": {
     "duration": 0.320801,
     "end_time": "2025-01-23T09:15:52.159279",
     "exception": false,
     "start_time": "2025-01-23T09:15:51.838478",
     "status": "completed"
    },
    "tags": []
   },
   "outputs": [
    {
     "name": "stdout",
     "output_type": "stream",
     "text": [
      "0.029696969696969697\n"
     ]
    }
   ],
   "source": [
    "accuracy=accuracy_score(ANS,PRED)\n",
    "print(accuracy)"
   ]
  },
  {
   "cell_type": "code",
   "execution_count": null,
   "id": "9ac84173",
   "metadata": {
    "papermill": {
     "duration": 0.374723,
     "end_time": "2025-01-23T09:15:52.846450",
     "exception": false,
     "start_time": "2025-01-23T09:15:52.471727",
     "status": "completed"
    },
    "tags": []
   },
   "outputs": [],
   "source": []
  }
 ],
 "metadata": {
  "kaggle": {
   "accelerator": "none",
   "dataSources": [
    {
     "datasetId": 5044,
     "sourceId": 2241756,
     "sourceType": "datasetVersion"
    }
   ],
   "dockerImageVersionId": 30839,
   "isGpuEnabled": false,
   "isInternetEnabled": true,
   "language": "python",
   "sourceType": "notebook"
  },
  "kernelspec": {
   "display_name": "Python 3",
   "language": "python",
   "name": "python3"
  },
  "language_info": {
   "codemirror_mode": {
    "name": "ipython",
    "version": 3
   },
   "file_extension": ".py",
   "mimetype": "text/x-python",
   "name": "python",
   "nbconvert_exporter": "python",
   "pygments_lexer": "ipython3",
   "version": "3.10.12"
  },
  "papermill": {
   "default_parameters": {},
   "duration": 1387.105578,
   "end_time": "2025-01-23T09:15:56.631567",
   "environment_variables": {},
   "exception": null,
   "input_path": "__notebook__.ipynb",
   "output_path": "__notebook__.ipynb",
   "parameters": {},
   "start_time": "2025-01-23T08:52:49.525989",
   "version": "2.6.0"
  }
 },
 "nbformat": 4,
 "nbformat_minor": 5
}
